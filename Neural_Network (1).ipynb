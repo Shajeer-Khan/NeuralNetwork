{
 "cells": [
  {
   "cell_type": "code",
   "execution_count": 19,
   "metadata": {},
   "outputs": [],
   "source": [
    "import numpy as np\n",
    "import matplotlib.pyplot as plt"
   ]
  },
  {
   "cell_type": "code",
   "execution_count": 20,
   "metadata": {},
   "outputs": [],
   "source": [
    "class Layer:\n",
    "    def __init__(self, input_size, output_size):\n",
    "        self.weights = np.random.randn(input_size, output_size) * 0.01\n",
    "        self.biases = np.zeros((1, output_size))\n",
    "\n",
    "    def forward(self, inputs):\n",
    "        self.inputs = inputs\n",
    "        self.outputs = np.dot(inputs, self.weights) + self.biases\n",
    "        return self.outputs\n",
    "\n",
    "    def backward(self, d_outputs, learning_rate):\n",
    "        d_weights = np.dot(self.inputs.T, d_outputs)\n",
    "        d_biases = np.sum(d_outputs, axis=0, keepdims=True)\n",
    "        d_inputs = np.dot(d_outputs, self.weights.T)\n",
    "\n",
    "        # Update weights and biases\n",
    "        self.weights -= learning_rate * d_weights\n",
    "        self.biases -= learning_rate * d_biases\n",
    "\n",
    "        return d_inputs\n",
    "\n",
    "class NeuralNetwork:\n",
    "    def __init__(self):\n",
    "        self.layers = []\n",
    "        self.loss_history = []\n",
    "\n",
    "    def add_layer(self, input_size, output_size):\n",
    "        layer = Layer(input_size, output_size)\n",
    "        self.layers.append(layer)\n",
    "\n",
    "    def forward(self, X):\n",
    "        for layer in self.layers:\n",
    "            X = layer.forward(X)\n",
    "        return X\n",
    "\n",
    "    def backward(self, loss_gradient, learning_rate):\n",
    "        for layer in reversed(self.layers):\n",
    "            loss_gradient = layer.backward(loss_gradient, learning_rate)\n",
    "\n",
    "    def train(self, X, y, epochs, learning_rate, loss_fn, loss_fn_derivative):\n",
    "        for epoch in range(epochs):\n",
    "            # Forward pass\n",
    "            outputs = self.forward(X)\n",
    "\n",
    "            # Compute loss\n",
    "            loss = loss_fn(y, outputs)\n",
    "            self.loss_history.append(loss)\n",
    "\n",
    "            # Backward pass\n",
    "            loss_gradient = loss_fn_derivative(y, outputs)\n",
    "            self.backward(loss_gradient, learning_rate)\n",
    "\n",
    "            # Print loss every 10 epochs\n",
    "            if epoch % 10 == 0:\n",
    "                print(f\"Epoch {epoch}, Loss: {loss}\")\n",
    "\n",
    "    def evaluate(self, X, y, loss_fn):\n",
    "        outputs = self.forward(X)\n",
    "        loss = loss_fn(y, outputs)\n",
    "        print(f\"Evaluation Loss: {loss}\")\n",
    "        return loss\n",
    "\n",
    "# Loss function: Mean Squared Error (MSE)\n",
    "def mse_loss(y_true, y_pred):\n",
    "    return np.mean((y_true - y_pred) ** 2)\n",
    "\n",
    "def mse_loss_derivative(y_true, y_pred):\n",
    "    return -2 * (y_true - y_pred) / y_true.size"
   ]
  },
  {
   "cell_type": "code",
   "execution_count": 25,
   "metadata": {},
   "outputs": [],
   "source": [
    "# Example dataset (Simple Linear Regression)\n",
    "X = np.array([[1], [2], [3], [4], [5]])\n",
    "y = np.array([[2], [4], [6], [8], [10]])  # y = 2x"
   ]
  },
  {
   "cell_type": "code",
   "execution_count": 26,
   "metadata": {},
   "outputs": [
    {
     "name": "stdout",
     "output_type": "stream",
     "text": [
      "Epoch 0, Loss: 44.535880922354444\n",
      "Epoch 10, Loss: 0.24651142921558175\n",
      "Epoch 20, Loss: 0.043496958954254164\n",
      "Epoch 30, Loss: 0.039804261211565925\n",
      "Epoch 40, Loss: 0.03719363586943246\n",
      "Epoch 50, Loss: 0.03475777760842473\n",
      "Epoch 60, Loss: 0.03248146280012195\n",
      "Epoch 70, Loss: 0.03035422575159267\n",
      "Epoch 80, Loss: 0.028366303163717237\n",
      "Epoch 90, Loss: 0.026508571220392223\n",
      "Epoch 100, Loss: 0.024772503631894576\n",
      "Epoch 110, Loss: 0.023150132502054586\n",
      "Epoch 120, Loss: 0.021634011758612657\n",
      "Epoch 130, Loss: 0.02021718297855345\n",
      "Epoch 140, Loss: 0.018893143451564783\n",
      "Epoch 150, Loss: 0.017655816335048303\n",
      "Epoch 160, Loss: 0.016499522763700904\n",
      "Epoch 170, Loss: 0.015418955785662302\n",
      "Epoch 180, Loss: 0.014409156005605736\n",
      "Epoch 190, Loss: 0.013465488822981663\n",
      "Epoch 200, Loss: 0.012583623160947247\n",
      "Epoch 210, Loss: 0.011759511588355843\n",
      "Epoch 220, Loss: 0.01098937174357235\n",
      "Epoch 230, Loss: 0.010269668974858348\n",
      "Epoch 240, Loss: 0.009597100117652765\n",
      "Epoch 250, Loss: 0.008968578334290645\n",
      "Epoch 260, Loss: 0.008381218946581047\n",
      "Epoch 270, Loss: 0.00783232619622157\n",
      "Epoch 280, Loss: 0.007319380872282677\n",
      "Epoch 290, Loss: 0.006840028748979127\n",
      "Epoch 300, Loss: 0.006392069780660217\n",
      "Epoch 310, Loss: 0.005973448004429475\n",
      "Epoch 320, Loss: 0.005582242104049291\n",
      "Epoch 330, Loss: 0.005216656591823254\n",
      "Epoch 340, Loss: 0.004875013567984253\n",
      "Epoch 350, Loss: 0.004555745019766423\n",
      "Epoch 360, Loss: 0.0042573856248174936\n",
      "Epoch 370, Loss: 0.003978566025921263\n",
      "Epoch 380, Loss: 0.0037180065461638045\n",
      "Epoch 390, Loss: 0.003474511315698462\n",
      "Epoch 400, Loss: 0.00324696278315396\n",
      "Epoch 410, Loss: 0.003034316586494502\n",
      "Epoch 420, Loss: 0.002835596759791725\n",
      "Epoch 430, Loss: 0.002649891253908605\n",
      "Epoch 440, Loss: 0.002476347750537262\n",
      "Epoch 450, Loss: 0.00231416975037975\n",
      "Epoch 460, Loss: 0.002162612917515619\n",
      "Epoch 470, Loss: 0.0020209816631809106\n",
      "Epoch 480, Loss: 0.0018886259532776236\n",
      "Epoch 490, Loss: 0.0017649383249622001\n",
      "Epoch 500, Loss: 0.0016493510986198355\n",
      "Epoch 510, Loss: 0.001541333772428995\n",
      "Epoch 520, Loss: 0.001440390587557814\n",
      "Epoch 530, Loss: 0.0013460582528180116\n",
      "Epoch 540, Loss: 0.0012579038183326893\n",
      "Epoch 550, Loss: 0.0011755226884596873\n",
      "Epoch 560, Loss: 0.0010985367648498863\n",
      "Epoch 570, Loss: 0.001026592711118226\n",
      "Epoch 580, Loss: 0.0009593603311629994\n",
      "Epoch 590, Loss: 0.0008965310536898409\n",
      "Epoch 600, Loss: 0.0008378165159860888\n",
      "Epoch 610, Loss: 0.0007829472404442736\n",
      "Epoch 620, Loss: 0.000731671397761594\n",
      "Epoch 630, Loss: 0.0006837536511383098\n",
      "Epoch 640, Loss: 0.0006389740761703021\n",
      "Epoch 650, Loss: 0.0005971271514791625\n",
      "Epoch 660, Loss: 0.0005580208154463381\n",
      "Epoch 670, Loss: 0.000521475584722691\n",
      "Epoch 680, Loss: 0.0004873237304675695\n",
      "Epoch 690, Loss: 0.0004554085085366414\n",
      "Epoch 700, Loss: 0.0004255834400852656\n",
      "Epoch 710, Loss: 0.00039771163928580715\n",
      "Epoch 720, Loss: 0.0003716651850732515\n",
      "Epoch 730, Loss: 0.0003473245340357269\n",
      "Epoch 740, Loss: 0.0003245779717553056\n",
      "Epoch 750, Loss: 0.000303321100080865\n",
      "Epoch 760, Loss: 0.00028345635797991824\n",
      "Epoch 770, Loss: 0.00026489257377021913\n",
      "Epoch 780, Loss: 0.0002475445466761662\n",
      "Epoch 790, Loss: 0.00023133265578922116\n",
      "Epoch 800, Loss: 0.00021618249463803012\n",
      "Epoch 810, Loss: 0.00020202452969071667\n",
      "Epoch 820, Loss: 0.0001887937812221699\n",
      "Epoch 830, Loss: 0.00017642952508159054\n",
      "Epoch 840, Loss: 0.0001648750139915137\n",
      "Epoch 850, Loss: 0.00015407721709917712\n",
      "Epoch 860, Loss: 0.00014398657658491564\n",
      "Epoch 870, Loss: 0.0001345567802103997\n",
      "Epoch 880, Loss: 0.0001257445487629196\n",
      "Epoch 890, Loss: 0.0001175094374201584\n",
      "Epoch 900, Loss: 0.00010981365012359564\n",
      "Epoch 910, Loss: 0.00010262186610894217\n",
      "Epoch 920, Loss: 9.590107779705075e-05\n",
      "Epoch 930, Loss: 8.962043930162523e-05\n",
      "Epoch 940, Loss: 8.375112485820425e-05\n",
      "Epoch 950, Loss: 7.826619652473008e-05\n",
      "Epoch 960, Loss: 7.314048054660706e-05\n",
      "Epoch 970, Loss: 6.835045181860068e-05\n",
      "Epoch 980, Loss: 6.387412591348182e-05\n",
      "Epoch 990, Loss: 5.969095818180968e-05\n"
     ]
    }
   ],
   "source": [
    "# Create and train the neural network\n",
    "nn = NeuralNetwork()\n",
    "nn.add_layer(1, 1)  # Single input, single output for linear regression\n",
    "\n",
    "nn.train(X, y, epochs=1000, learning_rate=0.01, loss_fn=mse_loss, loss_fn_derivative=mse_loss_derivative)"
   ]
  },
  {
   "cell_type": "code",
   "execution_count": 27,
   "metadata": {},
   "outputs": [
    {
     "name": "stdout",
     "output_type": "stream",
     "text": [
      "Evaluation Loss: 5.5781749459686816e-05\n"
     ]
    },
    {
     "data": {
      "text/plain": [
       "5.5781749459686816e-05"
      ]
     },
     "execution_count": 27,
     "metadata": {},
     "output_type": "execute_result"
    }
   ],
   "source": [
    "# Evaluate the neural network\n",
    "nn.evaluate(X, y, mse_loss)"
   ]
  },
  {
   "cell_type": "code",
   "execution_count": 28,
   "metadata": {},
   "outputs": [
    {
     "name": "stdout",
     "output_type": "stream",
     "text": [
      "Predictions: [[2.01265719]\n",
      " [4.00780828]\n",
      " [6.00295937]\n",
      " [7.99811046]\n",
      " [9.99326155]]\n"
     ]
    }
   ],
   "source": [
    "# Prediction\n",
    "def predict(X):\n",
    "    outputs = nn.forward(X)\n",
    "    return outputs\n",
    "\n",
    "# Test predictions\n",
    "predictions = predict(X)\n",
    "print(\"Predictions:\", predictions)"
   ]
  },
  {
   "cell_type": "code",
   "execution_count": 29,
   "metadata": {},
   "outputs": [
    {
     "data": {
      "image/png": "[encoded data removed]",
      "text/plain": [
       "<Figure size 640x480 with 1 Axes>"
      ]
     },
     "metadata": {},
     "output_type": "display_data"
    }
   ],
   "source": [
    "# Plot loss history\n",
    "plt.plot(nn.loss_history)\n",
    "plt.title('Training Loss Over Epochs')\n",
    "plt.xlabel('Epochs')\n",
    "plt.ylabel('Loss')\n",
    "plt.grid()\n",
    "plt.show()"
   ]
  }
 ],
 "metadata": {
  "kernelspec": {
   "display_name": "Python 3 (ipykernel)",
   "language": "python",
   "name": "python3"
  },
  "language_info": {
   "codemirror_mode": {
    "name": "ipython",
    "version": 3
   },
   "file_extension": ".py",
   "mimetype": "text/x-python",
   "name": "python",
   "nbconvert_exporter": "python",
   "pygments_lexer": "ipython3",
   "version": "3.12.7"
  }
 },
 "nbformat": 4,
 "nbformat_minor": 4
}
